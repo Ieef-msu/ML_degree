{
  "nbformat": 4,
  "nbformat_minor": 0,
  "metadata": {
    "colab": {
      "provenance": []
    },
    "kernelspec": {
      "name": "python3",
      "display_name": "Python 3"
    },
    "language_info": {
      "name": "python"
    }
  },
  "cells": [
    {
      "cell_type": "code",
      "execution_count": 1,
      "metadata": {
        "id": "srweaUHLGSaJ",
        "colab": {
          "base_uri": "https://localhost:8080/"
        },
        "outputId": "fc5edfb6-3891-49d6-a75a-f1da2ca0eae3"
      },
      "outputs": [
        {
          "output_type": "stream",
          "name": "stdout",
          "text": [
            "Looking in indexes: https://pypi.org/simple, https://us-python.pkg.dev/colab-wheels/public/simple/\n",
            "Requirement already satisfied: yfinance in /usr/local/lib/python3.10/dist-packages (0.2.18)\n",
            "Requirement already satisfied: lxml>=4.9.1 in /usr/local/lib/python3.10/dist-packages (from yfinance) (4.9.2)\n",
            "Requirement already satisfied: requests>=2.26 in /usr/local/lib/python3.10/dist-packages (from yfinance) (2.27.1)\n",
            "Requirement already satisfied: pandas>=1.3.0 in /usr/local/lib/python3.10/dist-packages (from yfinance) (1.5.3)\n",
            "Requirement already satisfied: html5lib>=1.1 in /usr/local/lib/python3.10/dist-packages (from yfinance) (1.1)\n",
            "Requirement already satisfied: numpy>=1.16.5 in /usr/local/lib/python3.10/dist-packages (from yfinance) (1.22.4)\n",
            "Requirement already satisfied: frozendict>=2.3.4 in /usr/local/lib/python3.10/dist-packages (from yfinance) (2.3.7)\n",
            "Requirement already satisfied: beautifulsoup4>=4.11.1 in /usr/local/lib/python3.10/dist-packages (from yfinance) (4.11.2)\n",
            "Requirement already satisfied: cryptography>=3.3.2 in /usr/local/lib/python3.10/dist-packages (from yfinance) (40.0.2)\n",
            "Requirement already satisfied: appdirs>=1.4.4 in /usr/local/lib/python3.10/dist-packages (from yfinance) (1.4.4)\n",
            "Requirement already satisfied: pytz>=2022.5 in /usr/local/lib/python3.10/dist-packages (from yfinance) (2022.7.1)\n",
            "Requirement already satisfied: multitasking>=0.0.7 in /usr/local/lib/python3.10/dist-packages (from yfinance) (0.0.11)\n",
            "Requirement already satisfied: soupsieve>1.2 in /usr/local/lib/python3.10/dist-packages (from beautifulsoup4>=4.11.1->yfinance) (2.4.1)\n",
            "Requirement already satisfied: cffi>=1.12 in /usr/local/lib/python3.10/dist-packages (from cryptography>=3.3.2->yfinance) (1.15.1)\n",
            "Requirement already satisfied: webencodings in /usr/local/lib/python3.10/dist-packages (from html5lib>=1.1->yfinance) (0.5.1)\n",
            "Requirement already satisfied: six>=1.9 in /usr/local/lib/python3.10/dist-packages (from html5lib>=1.1->yfinance) (1.16.0)\n",
            "Requirement already satisfied: python-dateutil>=2.8.1 in /usr/local/lib/python3.10/dist-packages (from pandas>=1.3.0->yfinance) (2.8.2)\n",
            "Requirement already satisfied: idna<4,>=2.5 in /usr/local/lib/python3.10/dist-packages (from requests>=2.26->yfinance) (3.4)\n",
            "Requirement already satisfied: charset-normalizer~=2.0.0 in /usr/local/lib/python3.10/dist-packages (from requests>=2.26->yfinance) (2.0.12)\n",
            "Requirement already satisfied: urllib3<1.27,>=1.21.1 in /usr/local/lib/python3.10/dist-packages (from requests>=2.26->yfinance) (1.26.15)\n",
            "Requirement already satisfied: certifi>=2017.4.17 in /usr/local/lib/python3.10/dist-packages (from requests>=2.26->yfinance) (2022.12.7)\n",
            "Requirement already satisfied: pycparser in /usr/local/lib/python3.10/dist-packages (from cffi>=1.12->cryptography>=3.3.2->yfinance) (2.21)\n",
            "\u001b[31mERROR: Operation cancelled by user\u001b[0m\u001b[31m\n",
            "\u001b[0m"
          ]
        }
      ],
      "source": [
        "!pip install yfinance #API для выгрузки рыночной информации"
      ]
    },
    {
      "cell_type": "code",
      "source": [
        "#устанавливаем необходимые для анализа пакеты\n",
        "import yfinance as yf\n",
        "import pandas as pd\n",
        "import numpy as np\n",
        "import matplotlib.pyplot as plt\n",
        "import plotly.express as px\n",
        "import requests as requests\n",
        "from google.colab import files"
      ],
      "metadata": {
        "id": "_OiCXb0MGbdw"
      },
      "execution_count": null,
      "outputs": []
    },
    {
      "cell_type": "code",
      "source": [
        " #вспомогательный объект Series для отбора данных на необходимую дату\n",
        "date = ['2019-03-01','2019-06-01','2019-09-01','2019-12-01','2020-03-01',\n",
        "        '2020-06-01','2020-09-01','2020-12-01','2021-03-01','2021-06-01',\n",
        "        '2021-09-01','2021-12-01']"
      ],
      "metadata": {
        "id": "V8yX5_eA9e4A"
      },
      "execution_count": null,
      "outputs": []
    },
    {
      "cell_type": "code",
      "source": [
        "#ссылка на персональный Google disk для доступа к файлу с отобранными тикерами \n",
        "url = \"https://docs.google.com/spreadsheets/d/1uwaBuXf_x8SSk-fsWAheyB_OaN99bNuc/edit?usp=share_link&ouid=110986586806883017870&rtpof=true&sd=true\"\n",
        "path = 'https://drive.google.com/uc?id='+url.split('/')[-2]\n",
        "tickers = pd.read_excel(path)"
      ],
      "metadata": {
        "id": "hLNlm1EFG0i5"
      },
      "execution_count": null,
      "outputs": []
    },
    {
      "cell_type": "code",
      "source": [
        "tickers.head(5) ##содержание таблицы"
      ],
      "metadata": {
        "id": "jIfzulVGOeMj"
      },
      "execution_count": null,
      "outputs": []
    },
    {
      "cell_type": "code",
      "source": [
        "tck = tickers['Symbol'].squeeze() #извлекаем из матрицы тикеры в виде списка\n",
        "tck"
      ],
      "metadata": {
        "id": "BOh7oLkPTjkp"
      },
      "execution_count": null,
      "outputs": []
    },
    {
      "cell_type": "code",
      "source": [
        "#с помощью установленного расширения извлекаем информацию о предприятиях\n",
        "#и рыночную информацию по кварталам\n",
        "tickers_data = {} \n",
        "stock_data = {}\n",
        "\n",
        "for ticker in tck:\n",
        "  ticker_object = yf.Ticker(ticker)\n",
        "  ticker_market = yf.download(ticker, \n",
        "                              start = \"2019-01-31\", \n",
        "                              end = \"2021-12-31\", interval = \"1mo\")\n",
        "\n",
        "  temp = pd.DataFrame.from_dict(ticker_object.info, orient=\"index\")\n",
        "  temp.reset_index(inplace=True)\n",
        "  temp.columns = [\"Attribute\", \"Recent\"]\n",
        "\n",
        "  tickers_data[ticker] = temp\n",
        "  stock_data[ticker] = ticker_market"
      ],
      "metadata": {
        "id": "KafmptSBW_NE"
      },
      "execution_count": null,
      "outputs": []
    },
    {
      "cell_type": "code",
      "source": [
        "#полученную информацию собираем в единые удобные для анализа датасеты\n",
        "combined_data = pd.concat(tickers_data)\n",
        "combined_stock_data = pd.concat(stock_data)\n",
        "\n",
        "combined_data = combined_data.reset_index()\n",
        "combined_stock_data = combined_stock_data.reset_index()"
      ],
      "metadata": {
        "id": "uZ6yRpvso4Aa"
      },
      "execution_count": null,
      "outputs": []
    },
    {
      "cell_type": "code",
      "source": [
        "#удаляем ненужный столбец в датасете с общей информацией\n",
        "del combined_data[\"level_1\"] \n",
        "#отбираем необходимые данные по торгам\n",
        "query = combined_stock_data.Date.isin(['2019-03-01','2019-06-01','2019-09-01',\n",
        "                                       '2019-12-01','2020-03-01','2020-06-01',\n",
        "                                       '2020-09-01','2020-12-01','2021-03-01',\n",
        "                                       '2021-06-01','2021-09-01','2021-12-01']) \n",
        "combined_stock_data = combined_stock_data[query]"
      ],
      "metadata": {
        "id": "FUdaMpsXbqsa"
      },
      "execution_count": null,
      "outputs": []
    },
    {
      "cell_type": "code",
      "source": [
        "combined_data"
      ],
      "metadata": {
        "id": "Wm5nZO1Lb6qE"
      },
      "execution_count": null,
      "outputs": []
    },
    {
      "cell_type": "code",
      "source": [
        "combined_stock_data"
      ],
      "metadata": {
        "id": "BytwH9Prb8A_"
      },
      "execution_count": null,
      "outputs": []
    },
    {
      "cell_type": "code",
      "source": [
        "#получаем таблицу, в которой для каждого тикера приводится отрасль (industry)\n",
        "industry = combined_data[combined_data[\"Attribute\"]==\"industry\"].reset_index()\n",
        "del industry[\"index\"] #удаляем ненужный столбец\n",
        "industry"
      ],
      "metadata": {
        "id": "wOtH99kGo-zO"
      },
      "execution_count": null,
      "outputs": []
    },
    {
      "cell_type": "code",
      "source": [
        "#выгружаем оба файла для составления датасета\n",
        "industry.to_excel('industry.xlsx')\n",
        "combined_stock_data.to_csv('stock_full.csv')\n",
        "\n",
        "files.download('industry.xlsx')\n",
        "files.download('stock_full.csv')"
      ],
      "metadata": {
        "id": "Pd5Kz4YMqDAI"
      },
      "execution_count": null,
      "outputs": []
    },
    {
      "cell_type": "code",
      "source": [
        "#аналогичным образом извлекаем квартальные данные c Macrotrends\n",
        "#понадобятся данные по EPS, общему объему активов, НМА, количеству акций,\n",
        "#FCF и Book value на одну акцию, затраты на R&D, показатель ROA \n",
        "eps_data = {}\n",
        "assets_data = {}\n",
        "intangible_data = {}\n",
        "shares_data = {}\n",
        "fcf_data = {}\n",
        "bv_data = {}\n",
        "RD_data = {}\n",
        "revenue_data = {}\n",
        "ROA_data = {}"
      ],
      "metadata": {
        "id": "cRAteybPsi6u"
      },
      "execution_count": null,
      "outputs": []
    },
    {
      "cell_type": "code",
      "source": [
        "for ticker in tck:\n",
        "  url_eps = 'https://www.macrotrends.net/stocks/charts/' + ticker + '/caterpillar/eps-earnings-per-share-diluted'\n",
        "  eps_histo = pd.read_html(url_eps)[1]\n",
        "  eps_histo = eps_histo.set_axis(['Date',  'Quartely'], axis = 1)\n",
        "  eps_data[ticker] = eps_histo\n",
        "\n",
        "  url_assets = 'https://www.macrotrends.net/stocks/charts/' + ticker + '/caterpillar/total-assets'\n",
        "  asset_histo = pd.read_html(url_assets)[1]\n",
        "  asset_histo = asset_histo.set_axis(['Date',  'Quartely'], axis = 1) \n",
        "  assets_data[ticker] = asset_histo\n",
        "\n",
        "  url_intang = 'https://www.macrotrends.net/stocks/charts/' + ticker + '/caterpillar/goodwill-intangible-assets-total'\n",
        "  intangible_histo = pd.read_html(url_intang)[1]\n",
        "  intangible_histo = intangible_histo.set_axis(['Date',  'Quartely'], axis = 1)\n",
        "  intangible_data[ticker] = intangible_histo \n",
        "\n",
        "  url_shares = 'https://www.macrotrends.net/stocks/charts/' + ticker + '/caterpillar/shares-outstanding'\n",
        "  shares_histo = pd.read_html(url_shares)[1]\n",
        "  shares_histo = shares_histo.set_axis(['Date',  'Quartely'], axis = 1)\n",
        "  shares_data[ticker] = shares_histo\n",
        "\n",
        "  url_fcf = 'https://www.macrotrends.net/stocks/charts/' + ticker + '/caterpillar/price-fcf'\n",
        "  fcf_histo = pd.read_html(url_fcf)[0]\n",
        "  fcf_histo = fcf_histo.set_axis(['Date',  'Price', 'TTM FCF', 'P/FCF'], axis = 1)\n",
        "  fcf_histo = fcf_histo[['Date', 'TTM FCF']]\n",
        "  fcf_data[ticker] = fcf_histo\n",
        "\n",
        "  url_bv = 'https://www.macrotrends.net/stocks/charts/' + ticker + '/caterpillar/price-book'\n",
        "  bv_histo = pd.read_html(url_bv)[0]\n",
        "  bv_histo = bv_histo.set_axis(['Date',  'Price', 'Book Value', 'P/BV'], axis = 1)\n",
        "  bv_histo = bv_histo[['Date','Book Value']]\n",
        "  bv_data[ticker] = bv_histo  \n",
        "\n",
        "  url_RD = 'https://www.macrotrends.net/stocks/charts/' + ticker + '/caterpillar/research-development-expenses'\n",
        "  RD_histo = pd.read_html(url_RD)[1]\n",
        "  RD_histo = RD_histo.set_axis(['Date',  'Quartely'], axis = 1)\n",
        "  RD_data[ticker] = RD_histo \n",
        "\n",
        "  url_rev = 'https://www.macrotrends.net/stocks/charts/' + ticker + '/caterpillar/revenue'\n",
        "  rev_histo = pd.read_html(url_rev)[1]\n",
        "  rev_histo = rev_histo.set_axis(['Date',  'Quartely'], axis = 1)\n",
        "  revenue_data[ticker] = rev_histo\n",
        "\n",
        "  url_roa = 'https://www.macrotrends.net/stocks/charts/' + ticker + '/caterpillar/roa'\n",
        "  roa_histo = pd.read_html(url_roa)[0]\n",
        "  roa_histo = roa_histo.set_axis(['Date',  'TTM Net Income', 'Total assets', 'Quartely'], axis = 1)\n",
        "  ROA_data[ticker] = roa_histo"
      ],
      "metadata": {
        "id": "kpaddmdUfk4a"
      },
      "execution_count": null,
      "outputs": []
    },
    {
      "cell_type": "code",
      "source": [
        "#полученную информацию собираем в удобные для анализа датасеты\n",
        "combined_eps_data = pd.concat(eps_data)\n",
        "combined_asset_data = pd.concat(assets_data)\n",
        "combined_intangible_data = pd.concat(intangible_data)\n",
        "combined_shares_data = pd.concat(shares_data)\n",
        "combined_fcf_data = pd.concat(fcf_data)\n",
        "combined_bv_data = pd.concat(bv_data)\n",
        "combined_RD_data = pd.concat(RD_data)\n",
        "combined_rev_data = pd.concat (revenue_data)\n",
        "combined_roa_data = pd.concat (ROA_data)\n",
        "\n",
        "combined_eps_data = combined_eps_data.reset_index()\n",
        "combined_asset_data = combined_asset_data.reset_index()\n",
        "combined_intangible_data = combined_intangible_data.reset_index()\n",
        "combined_shares_data = combined_shares_data.reset_index()\n",
        "combined_fcf_data = combined_fcf_data.reset_index()\n",
        "combined_bv_data = combined_bv_data.reset_index()\n",
        "combined_RD_data = combined_RD_data.reset_index()\n",
        "combined_rev_data = combined_rev_data.reset_index()\n",
        "combined_roa_data = combined_roa_data.reset_index()"
      ],
      "metadata": {
        "id": "JnYASPlJzRTF"
      },
      "execution_count": null,
      "outputs": []
    },
    {
      "cell_type": "code",
      "source": [
        "#удаляем ненужный столбец\n",
        "del combined_eps_data['level_1']\n",
        "del combined_asset_data['level_1']\n",
        "del combined_intangible_data['level_1']\n",
        "del combined_shares_data['level_1']\n",
        "del combined_fcf_data['level_1']\n",
        "del combined_bv_data['level_1']\n",
        "del combined_RD_data['level_1']\n",
        "del combined_rev_data['level_1']\n",
        "del combined_roa_data['level_1']"
      ],
      "metadata": {
        "id": "nkFXtuB0gz5g"
      },
      "execution_count": null,
      "outputs": []
    },
    {
      "cell_type": "code",
      "source": [
        "combined_eps_data"
      ],
      "metadata": {
        "id": "mqMQfmaphcEr"
      },
      "execution_count": null,
      "outputs": []
    },
    {
      "cell_type": "code",
      "source": [
        "combined_asset_data"
      ],
      "metadata": {
        "id": "Zuyc8idPhcoX"
      },
      "execution_count": null,
      "outputs": []
    },
    {
      "cell_type": "code",
      "source": [
        "combined_intangible_data"
      ],
      "metadata": {
        "id": "v7M0NsexhdL4"
      },
      "execution_count": null,
      "outputs": []
    },
    {
      "cell_type": "code",
      "source": [
        "combined_shares_data"
      ],
      "metadata": {
        "id": "CA-17LHKhdso"
      },
      "execution_count": null,
      "outputs": []
    },
    {
      "cell_type": "code",
      "source": [
        "combined_fcf_data"
      ],
      "metadata": {
        "id": "rdl6kDE6F0xR"
      },
      "execution_count": null,
      "outputs": []
    },
    {
      "cell_type": "code",
      "source": [
        "combined_bv_data"
      ],
      "metadata": {
        "id": "o0plPzLTF4MD"
      },
      "execution_count": null,
      "outputs": []
    },
    {
      "cell_type": "code",
      "source": [
        "combined_RD_data"
      ],
      "metadata": {
        "id": "NArF-zKINVix"
      },
      "execution_count": null,
      "outputs": []
    },
    {
      "cell_type": "code",
      "source": [
        "combined_rev_data"
      ],
      "metadata": {
        "id": "aOjuCvvUNeKP"
      },
      "execution_count": null,
      "outputs": []
    },
    {
      "cell_type": "code",
      "source": [
        "combined_roa_data"
      ],
      "metadata": {
        "id": "3KLOAUTENegN"
      },
      "execution_count": null,
      "outputs": []
    },
    {
      "cell_type": "code",
      "source": [
        "#формируем файл для расчета TTM EPS\n",
        "pe_data = combined_eps_data[(combined_eps_data.Date <= '2021-12-31') & (combined_eps_data.Date >= '2018-01-31')]\n",
        "\n",
        "#формируем файлы для расчета доли нематериальных активов\n",
        "asset_data = combined_asset_data[(combined_asset_data.Date <= '2021-12-31') & (combined_asset_data.Date >= '2019-01-31')]\n",
        "intangible_data = combined_intangible_data[(combined_intangible_data.Date <= '2021-12-31') & (combined_intangible_data.Date >= '2019-01-31')]\n",
        "\n",
        "#формируем файл для вычисления количества акций\n",
        "shares_data = combined_shares_data[(combined_shares_data.Date <= '2021-12-31') & (combined_shares_data.Date >= '2019-01-31')]\n",
        "\n",
        "#формируем файл по FCF на акцию\n",
        "fcf_data = combined_fcf_data[(combined_fcf_data.Date <= '2021-12-31') & (combined_fcf_data.Date >= '2019-01-31')]\n",
        "\n",
        "#формируем файл по Book value на акцию\n",
        "bv_data = combined_bv_data[(combined_bv_data.Date <= '2021-12-31') & (combined_bv_data.Date >= '2019-01-31')]\n",
        "\n",
        "#формируем файл для вычисления доли инвестиций в R&D\n",
        "RD_data = combined_RD_data[(combined_RD_data.Date <= '2021-12-31') & (combined_RD_data.Date >= '2019-01-31')]\n",
        "rev_data = combined_rev_data[(combined_rev_data.Date <= '2021-12-31') & (combined_rev_data.Date >= '2019-01-31')]\n",
        "\n",
        "#формируем файл по ROA\n",
        "roa_data = combined_roa_data[(combined_roa_data.Date <= '2021-12-31') & (combined_roa_data.Date >= '2019-01-31')]"
      ],
      "metadata": {
        "id": "JthG8c_WYld9"
      },
      "execution_count": null,
      "outputs": []
    },
    {
      "cell_type": "code",
      "source": [
        "#скачиваем файл по EPS для датасета\n",
        "pe_data.to_excel('eps_data.xlsx')\n",
        "files.download('eps_data.xlsx')"
      ],
      "metadata": {
        "id": "Mk0tUfJP3iDp"
      },
      "execution_count": null,
      "outputs": []
    },
    {
      "cell_type": "code",
      "source": [
        "#скачиваем файл по активам для датасета\n",
        "asset_data.to_excel('asset_data.xlsx')\n",
        "files.download('asset_data.xlsx')"
      ],
      "metadata": {
        "id": "Rqmhg6oziXcR"
      },
      "execution_count": null,
      "outputs": []
    },
    {
      "cell_type": "code",
      "source": [
        "#скачиваем файл по НМА для датасета\n",
        "intangible_data.to_excel('intangible_data.xlsx')\n",
        "files.download('intangible_data.xlsx')"
      ],
      "metadata": {
        "id": "7_nBZbX2iY6A"
      },
      "execution_count": null,
      "outputs": []
    },
    {
      "cell_type": "code",
      "source": [
        "#скачиваем файл по количеству акций для датасета\n",
        "shares_data.to_excel('shares_data.xlsx')\n",
        "files.download('shares_data.xlsx')"
      ],
      "metadata": {
        "id": "oh9GqG1IiaQ0"
      },
      "execution_count": null,
      "outputs": []
    },
    {
      "cell_type": "code",
      "source": [
        "#скачиваем файл по FCF на акцию для датасета\n",
        "fcf_data.to_excel('fcf_data.xlsx')\n",
        "files.download('fcf_data.xlsx')"
      ],
      "metadata": {
        "id": "REpVJZJwGWbc"
      },
      "execution_count": null,
      "outputs": []
    },
    {
      "cell_type": "code",
      "source": [
        "#скачиваем файл по Book value на акцию для датасета\n",
        "bv_data.to_excel('bv_data.xlsx')\n",
        "files.download('bv_data.xlsx')"
      ],
      "metadata": {
        "id": "t3fpjpImG-3r"
      },
      "execution_count": null,
      "outputs": []
    },
    {
      "cell_type": "code",
      "source": [
        "#скачиваем файл по расходам на R&D для датасета\n",
        "RD_data.to_excel('RD_data.xlsx')\n",
        "files.download('RD_data.xlsx')"
      ],
      "metadata": {
        "id": "FsOq8WF6SJXL"
      },
      "execution_count": null,
      "outputs": []
    },
    {
      "cell_type": "code",
      "source": [
        "#скачиваем файл по выручке для датасета\n",
        "rev_data.to_excel('rev_data.xlsx')\n",
        "files.download('rev_data.xlsx')"
      ],
      "metadata": {
        "id": "0LGR0bRlSJtM"
      },
      "execution_count": null,
      "outputs": []
    },
    {
      "cell_type": "code",
      "source": [
        "#скачиваем файл по ROA для датасета\n",
        "roa_data.to_excel('roa_data.xlsx')\n",
        "files.download('roa_data.xlsx')"
      ],
      "metadata": {
        "id": "kJOwjaagSKNE"
      },
      "execution_count": null,
      "outputs": []
    },
    {
      "cell_type": "markdown",
      "source": [
        "На основе файлов, полученных с помощью веб скрапинга данных с Macrotrends и Yahoo Finance, был собран датасет, который будет использован для оценки"
      ],
      "metadata": {
        "id": "jULlQdmFWrWZ"
      }
    },
    {
      "cell_type": "code",
      "source": [
        "\n",
        "dataset_url  = 'https://docs.google.com/spreadsheets/d/1gvwNb4oduAEL5RfU9Eei6OWDGHkRVY3M/edit?usp=share_link&ouid=110986586806883017870&rtpof=true&sd=true'\n",
        "dataset_path = 'https://drive.google.com/uc?id=' + dataset_url.split('/')[-2]\n",
        "dataset = pd.read_excel(dataset_path)"
      ],
      "metadata": {
        "id": "4mhTmt9uWLOP"
      },
      "execution_count": null,
      "outputs": []
    },
    {
      "cell_type": "code",
      "source": [
        "dataset.head()"
      ],
      "metadata": {
        "id": "2OvY93gaSHoV"
      },
      "execution_count": null,
      "outputs": []
    },
    {
      "cell_type": "code",
      "source": [
        "dataset.isnull().sum(axis=0) #смотрим на количество пропущенных значений"
      ],
      "metadata": {
        "id": "WK5box4y0HPa"
      },
      "execution_count": null,
      "outputs": []
    },
    {
      "cell_type": "code",
      "source": [
        "#удаляем строки, в которых есть хоть одно NaN\n",
        "dataset = dataset.dropna() \n",
        "#удаляем ненужные столбцы\n",
        "dataset.drop(dataset.columns[[3,4,5,6,8,9,10,11,12]], axis=1, inplace = True)"
      ],
      "metadata": {
        "id": "UWSNCavT1Dfo"
      },
      "execution_count": null,
      "outputs": []
    },
    {
      "cell_type": "code",
      "source": [
        "#переименовываем столбец\n",
        "dataset.rename({'Intangible assets to assets ratio' : 'Intangible assets, share'}, axis=1, inplace = True)"
      ],
      "metadata": {
        "id": "ukz05J46StKK"
      },
      "execution_count": null,
      "outputs": []
    },
    {
      "cell_type": "code",
      "source": [
        "#выводим общие показатели в отдельную таблицу\n",
        "dataset.describe().to_excel('description.xlsx')"
      ],
      "metadata": {
        "id": "xUfdbyhIScXE"
      },
      "execution_count": null,
      "outputs": []
    },
    {
      "cell_type": "code",
      "source": [
        "#скачиваем\n",
        "files.download('description.xlsx')"
      ],
      "metadata": {
        "id": "MCtMhZ4sTWiB"
      },
      "execution_count": null,
      "outputs": []
    },
    {
      "cell_type": "code",
      "source": [
        "#создаем отдельные датасеты по каждой индустрии для графика\n",
        "farm_heavy = dataset[dataset.Industry == 'Farm & Heavy Construction Machinery']\n",
        "spec_ind_mach = dataset[dataset.Industry == 'Specialty Industrial Machinery']\n",
        "elec_equip = dataset[dataset.Industry == 'Electrical Equipment & Parts']\n",
        "metal_fabr = dataset[dataset.Industry == 'Metal Fabrication']\n",
        "eng_contr = dataset[dataset.Industry == 'Engineering & Construction']"
      ],
      "metadata": {
        "id": "YsmxSZGhY2jI"
      },
      "execution_count": null,
      "outputs": []
    },
    {
      "cell_type": "code",
      "source": [
        "fig, ax = plt.subplots()\n",
        "fig.set_size_inches(13, 7) # Задаём размеры графика.\n",
        "\n",
        "# Подписываем и отрисовываем точки.\n",
        "ax.scatter(farm_heavy['Date'], farm_heavy['Capitalization, mln'], label=\"Farm & Heavy Construction Machinery\", facecolor=\"blue\", alpha=0.5)\n",
        "ax.scatter(spec_ind_mach['Date'], spec_ind_mach['Capitalization, mln'], label=\"Specialty Industrial Machinery\", facecolor=\"green\", alpha=0.5)\n",
        "ax.scatter(elec_equip['Date'], elec_equip['Capitalization, mln'], label=\"Electrical Equipment & Parts\", facecolor=\"red\", alpha=0.5)\n",
        "ax.scatter(metal_fabr['Date'], metal_fabr['Capitalization, mln'], label=\"Metal Fabrication\", facecolor=\"violet\", alpha=0.5)\n",
        "ax.scatter(eng_contr['Date'], eng_contr['Capitalization, mln'], label=\"Engineering & Construction\", facecolor=\"yellow\", alpha=0.5)\n",
        "\n",
        "ax.set_xlabel(\"Дата\")\n",
        "ax.set_ylabel(\"Капитализация, млн долларов\")\n",
        "ax.grid()\n",
        "ax.set_title(\"Промышленные предприятия\")\n",
        "ax.legend()"
      ],
      "metadata": {
        "id": "Neu0UfOdalbW"
      },
      "execution_count": null,
      "outputs": []
    },
    {
      "cell_type": "code",
      "source": [
        "from sklearn.preprocessing import LabelEncoder\n",
        "le = LabelEncoder()"
      ],
      "metadata": {
        "id": "DquonI5913Kf"
      },
      "execution_count": null,
      "outputs": []
    },
    {
      "cell_type": "code",
      "source": [
        "#заменяем текстовые значения индустрии на числовую кодировку\n",
        "new = le.fit_transform(dataset['Industry'])\n",
        "dataset['Industry'] = new"
      ],
      "metadata": {
        "id": "uk3NZeFl2Bj5"
      },
      "execution_count": null,
      "outputs": []
    },
    {
      "cell_type": "code",
      "source": [
        "dataset.head()"
      ],
      "metadata": {
        "id": "3x83TqFZ2u4u"
      },
      "execution_count": null,
      "outputs": []
    },
    {
      "cell_type": "code",
      "source": [
        "#строим корреляционную матрицу\n",
        "sub_ds = dataset.iloc[:, 3:]\n",
        "corr = sub_ds.corr()\n",
        "corr.style.background_gradient(cmap='coolwarm')"
      ],
      "metadata": {
        "id": "WdcC7ExAktDV"
      },
      "execution_count": null,
      "outputs": []
    },
    {
      "cell_type": "code",
      "source": [
        "\n",
        "from statsmodels.stats.outliers_influence import variance_inflation_factor\n",
        "  \n",
        "# регрессоры\n",
        "X = sub_ds.iloc[:,:-1]\n",
        "  \n",
        "# датафрейм для расчета VIF \n",
        "vif_data = pd.DataFrame()\n",
        "vif_data[\"feature\"] = X.columns\n",
        "  \n",
        "# расчет VIF\n",
        "vif_data[\"VIF\"] = [variance_inflation_factor(X.values, i)\n",
        "                          for i in range(len(X.columns))]\n",
        "  \n",
        "print(vif_data)\n"
      ],
      "metadata": {
        "id": "c4TeuAy_iYil"
      },
      "execution_count": null,
      "outputs": []
    },
    {
      "cell_type": "code",
      "source": [
        "from sklearn.ensemble import RandomForestRegressor\n",
        "from sklearn import metrics\n",
        "from sklearn.model_selection import train_test_split\n",
        "from sklearn.metrics import mean_squared_error, r2_score, mean_absolute_error"
      ],
      "metadata": {
        "id": "XH5R6XKazdeY"
      },
      "execution_count": null,
      "outputs": []
    },
    {
      "cell_type": "code",
      "source": [
        "#формируем датасеты по признаками и метке\n",
        "X = dataset.iloc[:, 3:9]\n",
        "y = dataset.iloc[:, 9:]"
      ],
      "metadata": {
        "id": "i_Tx4sbk0C2Z"
      },
      "execution_count": null,
      "outputs": []
    },
    {
      "cell_type": "code",
      "source": [
        "X"
      ],
      "metadata": {
        "id": "mgQhzC2XAtbq"
      },
      "execution_count": null,
      "outputs": []
    },
    {
      "cell_type": "code",
      "source": [
        "y"
      ],
      "metadata": {
        "id": "x3Lft5DLZEG4"
      },
      "execution_count": null,
      "outputs": []
    },
    {
      "cell_type": "code",
      "source": [
        "#разделение на обучающую и тестировочную подвыборки\n",
        "X_train, X_test, y_train, y_test = train_test_split(X,y,test_size=0.2,random_state=3)"
      ],
      "metadata": {
        "id": "uBB0RfsnZXwN"
      },
      "execution_count": null,
      "outputs": []
    },
    {
      "cell_type": "code",
      "source": [
        "#формирование исходной модели с базовыми параметрами\n",
        "model0 =  RandomForestRegressor(random_state=3) "
      ],
      "metadata": {
        "id": "9v7VRaHd9YJU"
      },
      "execution_count": null,
      "outputs": []
    },
    {
      "cell_type": "code",
      "source": [
        "#обучение модели\n",
        "model0.fit(X_train, y_train)"
      ],
      "metadata": {
        "id": "EqY38y639fnG"
      },
      "execution_count": null,
      "outputs": []
    },
    {
      "cell_type": "code",
      "source": [
        "#предсказание\n",
        "y_pred0 = model0.predict(X_test)"
      ],
      "metadata": {
        "id": "cdAJvVc79jcB"
      },
      "execution_count": null,
      "outputs": []
    },
    {
      "cell_type": "code",
      "source": [
        "# Mean absolute error (MAE)\n",
        "mae = mean_absolute_error(y_test, y_pred0)\n",
        "\n",
        "# Mean squared error (MSE)\n",
        "mse = mean_squared_error(y_test, y_pred0)\n",
        "\n",
        "# R-squared scores\n",
        "r2 = r2_score(y_test, y_pred0)\n",
        "\n",
        "# выводим метрики\n",
        "print('Mean Absolute Error:', round(mae, 2))\n",
        "print('Mean Squared Error:', round(mse, 2))\n",
        "print('R-squared scores:', round(r2, 2))"
      ],
      "metadata": {
        "id": "NwwB_Hcq9onQ"
      },
      "execution_count": null,
      "outputs": []
    },
    {
      "cell_type": "code",
      "source": [
        "#строим точечный график для сравнения\n",
        "x_axis = X_test[['Intangible assets, share']]\n",
        "\n",
        "plt.scatter(x_axis, y_test, c = 'b', alpha = 0.5, marker = '.', label = 'фактические')\n",
        "plt.scatter(x_axis, y_pred0, c = 'r', alpha = 0.5, marker = '.', label = 'предсказанные')\n",
        "plt.xlabel('Нематериальные активы, доля')\n",
        "plt.ylabel('Капитализация, млн долларов')\n",
        "plt.grid(color = '#D3D3D3', linestyle = 'solid')\n",
        "plt.legend(loc = 'upper right')\n",
        "plt.xlim(0,1)\n",
        "plt.show()"
      ],
      "metadata": {
        "id": "C56SR69rAIiI"
      },
      "execution_count": null,
      "outputs": []
    },
    {
      "cell_type": "code",
      "source": [
        "#извлекаем данные по важности параметров\n",
        "characteristics = X.columns\n",
        "importances = list(model0.feature_importances_)\n",
        "characteristics_importances = [(characteristic, round(importance, 2)) for characteristic, importance in zip(characteristics, importances)]\n",
        "characteristics_importances = sorted(characteristics_importances, key = lambda x: x[1], reverse = True)\n",
        "[print('Variable: {:20} Importance: {}'.format(*pair)) for pair in characteristics_importances]"
      ],
      "metadata": {
        "id": "BBIKhk7QCQDC"
      },
      "execution_count": null,
      "outputs": []
    },
    {
      "cell_type": "code",
      "source": [
        "#строим столбчатую диаграмму для важности параметров \n",
        "plt.bar(characteristics, importances, orientation = 'vertical')\n",
        "plt.xticks(rotation = 'vertical')\n",
        "plt.ylabel('Среднее снижение загрязнения')\n",
        "plt.xlabel('Признак')\n",
        "plt.grid(axis = 'y', color = '#D3D3D3', linestyle = 'solid')\n",
        "plt.show()"
      ],
      "metadata": {
        "id": "Qfu6PFDBCTOq"
      },
      "execution_count": null,
      "outputs": []
    },
    {
      "cell_type": "code",
      "source": [
        "#строим новую модель с увеличенным количеством деревьев\n",
        "model =  RandomForestRegressor(n_estimators=500,                              \n",
        "                               oob_score=True,\n",
        "                               random_state=3, bootstrap = True) "
      ],
      "metadata": {
        "id": "-dJcG2ptZdwk"
      },
      "execution_count": null,
      "outputs": []
    },
    {
      "cell_type": "code",
      "source": [
        "#обучение модели\n",
        "model.fit(X_train, y_train)"
      ],
      "metadata": {
        "id": "8i1TuyoNaIw6"
      },
      "execution_count": null,
      "outputs": []
    },
    {
      "cell_type": "code",
      "source": [
        "#предсказание\n",
        "y_pred = model.predict(X_test)"
      ],
      "metadata": {
        "id": "5kBVdFpcaSfD"
      },
      "execution_count": null,
      "outputs": []
    },
    {
      "cell_type": "code",
      "source": [
        "# Mean absolute error (MAE)\n",
        "mae = mean_absolute_error(y_test, y_pred)\n",
        "\n",
        "# Mean squared error (MSE)\n",
        "mse = mean_squared_error(y_test, y_pred)\n",
        "\n",
        "# R-squared scores\n",
        "r2 = r2_score(y_test, y_pred)\n",
        "\n",
        "# выводим метрики\n",
        "print('Mean Absolute Error:', round(mae, 2))\n",
        "print('Mean Squared Error:', round(mse, 2))\n",
        "print('R-squared scores:', round(r2, 2))"
      ],
      "metadata": {
        "id": "UHkaYe99dK7c"
      },
      "execution_count": null,
      "outputs": []
    },
    {
      "cell_type": "code",
      "source": [
        "#строим точечный график для сравнения\n",
        "x_axis = X_test[['Intangible assets, share']]\n",
        "\n",
        "plt.scatter(x_axis, y_test, c = 'b', alpha = 0.5, marker = '.', label = 'фактические')\n",
        "plt.scatter(x_axis, y_pred, c = 'r', alpha = 0.5, marker = '.', label = 'предсказанные')\n",
        "plt.xlabel('Нематериальные активы, доля')\n",
        "plt.ylabel('Капитализация, млн долларов')\n",
        "plt.grid(color = '#D3D3D3', linestyle = 'solid')\n",
        "plt.legend(loc = 'upper right')\n",
        "plt.xlim(0,1)\n",
        "plt.show()"
      ],
      "metadata": {
        "id": "TqfFcutXLfaY"
      },
      "execution_count": null,
      "outputs": []
    },
    {
      "cell_type": "code",
      "source": [
        "#извлекаем данные по важности параметров\n",
        "characteristics = X.columns\n",
        "importances = list(model.feature_importances_)\n",
        "characteristics_importances = [(characteristic, round(importance, 2)) for characteristic, importance in zip(characteristics, importances)]\n",
        "characteristics_importances = sorted(characteristics_importances, key = lambda x: x[1], reverse = True)\n",
        "[print('Variable: {:20} Importance: {}'.format(*pair)) for pair in characteristics_importances]"
      ],
      "metadata": {
        "id": "78iotvDAyFJ7"
      },
      "execution_count": null,
      "outputs": []
    },
    {
      "cell_type": "code",
      "source": [
        "#строим столбчатую диаграмму для важности параметров \n",
        "plt.bar(characteristics, importances, orientation = 'vertical')\n",
        "plt.xticks(rotation = 'vertical')\n",
        "plt.ylabel('Важность')\n",
        "plt.xlabel('Признак')\n",
        "plt.grid(axis = 'y', color = '#D3D3D3', linestyle = 'solid')\n",
        "plt.show()"
      ],
      "metadata": {
        "id": "T2vmp1RhyunM"
      },
      "execution_count": null,
      "outputs": []
    },
    {
      "cell_type": "code",
      "source": [
        "#формируем новый усеченный датасет\n",
        "X1 = dataset[['ROA','P/BV', 'Intangible assets, share', 'R/D to Revenue ratio']]\n",
        "y1 = dataset.iloc[:, 9:]"
      ],
      "metadata": {
        "id": "vSZPvC8PzCQi"
      },
      "execution_count": null,
      "outputs": []
    },
    {
      "cell_type": "code",
      "source": [
        "#разделение на обучающую и тестировочную подвыборки\n",
        "X1_train, X1_test, y1_train, y1_test = train_test_split(X1,y1,test_size=0.2,random_state=3)"
      ],
      "metadata": {
        "id": "YdArKihizqpf"
      },
      "execution_count": null,
      "outputs": []
    },
    {
      "cell_type": "code",
      "source": [
        "#формируем исходную модель\n",
        "model1 =  RandomForestRegressor(n_estimators=100,                              \n",
        "                               oob_score=True,\n",
        "                               random_state=3, bootstrap = True) "
      ],
      "metadata": {
        "id": "xlHpych528zt"
      },
      "execution_count": null,
      "outputs": []
    },
    {
      "cell_type": "code",
      "source": [
        "#обучение модели\n",
        "model1.fit(X1_train, y1_train)"
      ],
      "metadata": {
        "id": "UN8xe_Dvz7jh"
      },
      "execution_count": null,
      "outputs": []
    },
    {
      "cell_type": "code",
      "source": [
        "#предсказание\n",
        "y1_pred = model1.predict(X1_test)"
      ],
      "metadata": {
        "id": "qtj2-l7lz7ji"
      },
      "execution_count": null,
      "outputs": []
    },
    {
      "cell_type": "code",
      "source": [
        "# Mean absolute error (MAE)\n",
        "mae = mean_absolute_error(y1_test, y1_pred)\n",
        "\n",
        "# Mean squared error (MSE)\n",
        "mse = mean_squared_error(y1_test, y1_pred)\n",
        "\n",
        "# R-squared scores\n",
        "r2 = r2_score(y1_test, y1_pred)\n",
        "\n",
        "# выводим метрики\n",
        "print('Mean Absolute Error:', round(mae, 2))\n",
        "print('Mean Squared Error:', round(mse, 2))\n",
        "print('R-squared scores:', round(r2, 2))"
      ],
      "metadata": {
        "id": "r4ZrR_yhz7ji"
      },
      "execution_count": null,
      "outputs": []
    },
    {
      "cell_type": "code",
      "source": [
        "#строим точечный график для сравнения\n",
        "x_axis = X1_test[['Intangible assets, share']]\n",
        "\n",
        "plt.scatter(x_axis, y1_test, c = 'b', alpha = 0.5, marker = '.', label = 'фактические')\n",
        "plt.scatter(x_axis, y1_pred, c = 'r', alpha = 0.5, marker = '.', label = 'предсказанные')\n",
        "plt.xlabel('Нематериальные активы, доля')\n",
        "plt.ylabel('Капитализация, млн долларов')\n",
        "plt.grid(color = '#D3D3D3', linestyle = 'solid')\n",
        "plt.legend(loc = 'upper right')\n",
        "plt.xlim(0,1)\n",
        "plt.show()"
      ],
      "metadata": {
        "id": "8PU0aHcl0zLz"
      },
      "execution_count": null,
      "outputs": []
    },
    {
      "cell_type": "code",
      "source": [
        "#задаем параметры для количества деревьев\n",
        "estimators = [50, 60, 70, 80, 90, 100, 120, 130, 140, 150, 160, 170, 180, 190, 200]"
      ],
      "metadata": {
        "id": "rDyqBLEVQToY"
      },
      "execution_count": null,
      "outputs": []
    },
    {
      "cell_type": "code",
      "source": [
        "#пустой словарь\n",
        "estim = {}"
      ],
      "metadata": {
        "id": "9ZqNoMjVSqgK"
      },
      "execution_count": null,
      "outputs": []
    },
    {
      "cell_type": "code",
      "source": [
        "#перебор параметров с выгрузкой показателей\n",
        "for n in estimators:\n",
        "  model =  RandomForestRegressor(n_estimators=n, oob_score=True, random_state=3, bootstrap = True)\n",
        "  model.fit(X1_train, y1_train)\n",
        "  y_pred = model.predict(X1_test)\n",
        "  MAE = mean_absolute_error(y1_test, y_pred)\n",
        "  MSE = mean_squared_error(y1_test, y_pred)\n",
        "  R2 = r2_score(y1_test, y_pred)\n",
        "  concat = [MAE, MSE, R2]\n",
        "  estim[n] = concat"
      ],
      "metadata": {
        "id": "ekCIFlonRJOw"
      },
      "execution_count": null,
      "outputs": []
    },
    {
      "cell_type": "code",
      "source": [
        "#формируем матрицу, переименовываем столбцы\n",
        "estim1 = pd.DataFrame.from_dict(estim, orient='index').reset_index()\n",
        "estim1.rename(columns={'index':'estimators',0:'MAE',1:'MSE',2:'R2'}, inplace=True)"
      ],
      "metadata": {
        "id": "mYqqj6SeTcIf"
      },
      "execution_count": null,
      "outputs": []
    },
    {
      "cell_type": "code",
      "source": [
        "estim1"
      ],
      "metadata": {
        "id": "qkwopnNkfnpG"
      },
      "execution_count": null,
      "outputs": []
    },
    {
      "cell_type": "code",
      "source": [
        "#строим график изменения R2\n",
        "plt.plot(estim1[['estimators']],estim1[['R2']])\n",
        "plt.xlabel('Количество деревьев')\n",
        "plt.ylabel('Значение R2')\n",
        "plt.grid(color = '#D3D3D3', linestyle = 'solid')"
      ],
      "metadata": {
        "id": "ta43ilNaVE78"
      },
      "execution_count": null,
      "outputs": []
    },
    {
      "cell_type": "code",
      "source": [
        "#формируем новую модель\n",
        "model2 =  RandomForestRegressor(n_estimators=120,                              \n",
        "                               oob_score=True,\n",
        "                               random_state=3, bootstrap = True) "
      ],
      "metadata": {
        "id": "mVLV3ayFhtpB"
      },
      "execution_count": null,
      "outputs": []
    },
    {
      "cell_type": "code",
      "source": [
        "#обучение модели\n",
        "model2.fit(X1_train, y1_train)"
      ],
      "metadata": {
        "id": "lCqU1JsxhtpB"
      },
      "execution_count": null,
      "outputs": []
    },
    {
      "cell_type": "code",
      "source": [
        "#предсказание\n",
        "y2_pred = model2.predict(X1_test)"
      ],
      "metadata": {
        "id": "-bFNH4UthtpC"
      },
      "execution_count": null,
      "outputs": []
    },
    {
      "cell_type": "code",
      "source": [
        "#оцениваем среднее количество узлов и среднюю максимальную глубину дерева\n",
        "n_nodes = []\n",
        "max_depths = []\n",
        "\n",
        "for ind_tree in model2.estimators_:\n",
        "    n_nodes.append(ind_tree.tree_.node_count)\n",
        "    max_depths.append(ind_tree.tree_.max_depth)\n",
        "    \n",
        "print(f'Average number of nodes {int(np.mean(n_nodes))}')\n",
        "print(f'Average maximum depth {int(np.mean(max_depths))}')"
      ],
      "metadata": {
        "id": "FeNZOFIPvdNo"
      },
      "execution_count": null,
      "outputs": []
    },
    {
      "cell_type": "code",
      "source": [
        "#задаем параметры для глубины деревьев\n",
        "depth = [12, 14, 16, 18, 20, 22, 24, 26, 28]"
      ],
      "metadata": {
        "id": "MAytXuEYjSc7"
      },
      "execution_count": null,
      "outputs": []
    },
    {
      "cell_type": "code",
      "source": [
        "#пустой словарь\n",
        "dep = {}"
      ],
      "metadata": {
        "id": "FgaGETw4jeN2"
      },
      "execution_count": null,
      "outputs": []
    },
    {
      "cell_type": "code",
      "source": [
        "#перебор параметров с выгрузкой показателей\n",
        "for n in depth:\n",
        "  model =  RandomForestRegressor(n_estimators=120, max_depth=n, oob_score=True, random_state=3, bootstrap = True)\n",
        "  model.fit(X1_train, y1_train)\n",
        "  y_pred = model.predict(X1_test)\n",
        "  MAE = mean_absolute_error(y1_test, y_pred)\n",
        "  MSE = mean_squared_error(y1_test, y_pred)\n",
        "  R2 = r2_score(y1_test, y_pred)\n",
        "  concat = [MAE, MSE, R2]\n",
        "  dep[n] = concat"
      ],
      "metadata": {
        "id": "K72rqgxUjhVZ"
      },
      "execution_count": null,
      "outputs": []
    },
    {
      "cell_type": "code",
      "source": [
        "dep"
      ],
      "metadata": {
        "id": "Z7-iTABwkHEb"
      },
      "execution_count": null,
      "outputs": []
    },
    {
      "cell_type": "code",
      "source": [
        "#формируем матрицу, переименовываем столбцы\n",
        "dep1 = pd.DataFrame.from_dict(dep, orient='index').reset_index()\n",
        "dep1.rename(columns={'index':'tree depth',0:'MAE',1:'MSE',2:'R2'}, inplace=True)"
      ],
      "metadata": {
        "id": "glNiX8KZj4ro"
      },
      "execution_count": null,
      "outputs": []
    },
    {
      "cell_type": "code",
      "source": [
        "#строим график изменения R2\n",
        "plt.plot(dep1[['tree depth']],dep1[['R2']])\n",
        "plt.xlabel('максимальная глубина деревьев')\n",
        "plt.ylabel('Значение R2')\n",
        "plt.grid(color = '#D3D3D3', linestyle = 'solid')"
      ],
      "metadata": {
        "id": "uwpkxgpPj9jA"
      },
      "execution_count": null,
      "outputs": []
    },
    {
      "cell_type": "code",
      "source": [
        "#задаем параметры для механизма выбора количества признаков\n",
        "features = ['sqrt', 'log2', 'auto', 1, 2, 3]"
      ],
      "metadata": {
        "id": "OYX3UIU_pgaL"
      },
      "execution_count": null,
      "outputs": []
    },
    {
      "cell_type": "code",
      "source": [
        "#пустой словарь\n",
        "feat = {}"
      ],
      "metadata": {
        "id": "m0RY3xDEshVf"
      },
      "execution_count": null,
      "outputs": []
    },
    {
      "cell_type": "code",
      "source": [
        "#перебор параметров с выгрузкой показателей\n",
        "for n in features:\n",
        "  model =  RandomForestRegressor(n_estimators=120, max_depth=14, max_features = n, oob_score=True, random_state=3, bootstrap = True)\n",
        "  model.fit(X1_train, y1_train)\n",
        "  y_pred = model.predict(X1_test)\n",
        "  MAE = mean_absolute_error(y1_test, y_pred)\n",
        "  MSE = mean_squared_error(y1_test, y_pred)\n",
        "  R2 = r2_score(y1_test, y_pred)\n",
        "  concat = [MAE, MSE, R2]\n",
        "  feat[n] = concat"
      ],
      "metadata": {
        "id": "nedGZhVhsjxV"
      },
      "execution_count": null,
      "outputs": []
    },
    {
      "cell_type": "code",
      "source": [
        "#формируем матрицу, переименовываем столбцы\n",
        "feat1 = pd.DataFrame.from_dict(feat, orient='index').reset_index()\n",
        "feat1.rename(columns={'index':'Выбор признака',0:'MAE',1:'MSE',2:'R2'}, inplace=True)"
      ],
      "metadata": {
        "id": "mZ68GJQQtLrJ"
      },
      "execution_count": null,
      "outputs": []
    },
    {
      "cell_type": "code",
      "source": [
        "#вывод R2\n",
        "feat1[['Выбор признака', 'R2']]"
      ],
      "metadata": {
        "id": "ozeviGK6ydxl"
      },
      "execution_count": null,
      "outputs": []
    },
    {
      "cell_type": "code",
      "source": [
        "#вывод MSE\n",
        "feat1[['MSE']].values"
      ],
      "metadata": {
        "id": "jRSaFhEstmUE"
      },
      "execution_count": null,
      "outputs": []
    },
    {
      "cell_type": "code",
      "source": [
        "#формируем финальную модель\n",
        "model3 =  RandomForestRegressor(n_estimators=120, max_depth=14, max_features='auto',                              \n",
        "                               oob_score=True,\n",
        "                               random_state=3, bootstrap = True) "
      ],
      "metadata": {
        "id": "D1Y5KccPzmYc"
      },
      "execution_count": null,
      "outputs": []
    },
    {
      "cell_type": "code",
      "source": [
        "#обучение модели\n",
        "model3.fit(X1_train, y1_train)"
      ],
      "metadata": {
        "id": "OL9nL6Qgz5t9"
      },
      "execution_count": null,
      "outputs": []
    },
    {
      "cell_type": "code",
      "source": [
        "#предсказание\n",
        "y3_pred = model3.predict(X1_test)"
      ],
      "metadata": {
        "id": "sKlLGW5Yz5t9"
      },
      "execution_count": null,
      "outputs": []
    },
    {
      "cell_type": "code",
      "source": [
        "# Mean absolute error (MAE)\n",
        "mae = mean_absolute_error(y1_test, y3_pred)\n",
        "\n",
        "# Mean squared error (MSE)\n",
        "mse = mean_squared_error(y1_test, y3_pred)\n",
        "\n",
        "# R-squared scores\n",
        "r2 = r2_score(y1_test, y3_pred)\n",
        "\n",
        "# выводим метрики\n",
        "print('Mean Absolute Error:', round(mae, 2))\n",
        "print('Mean Squared Error:', round(mse, 2))\n",
        "print('R-squared scores:', round(r2, 3))"
      ],
      "metadata": {
        "id": "-nJ0Y69q0Dgq"
      },
      "execution_count": null,
      "outputs": []
    },
    {
      "cell_type": "code",
      "source": [
        "#строим точечный график для сравнения\n",
        "x_axis = X1_test[['Intangible assets, %']]\n",
        "\n",
        "plt.scatter(x_axis, y1_test, c = 'b', alpha = 0.5, marker = '.', label = 'фактические')\n",
        "plt.scatter(x_axis, y3_pred, c = 'r', alpha = 0.5, marker = '.', label = 'предсказанные')\n",
        "plt.xlabel('Нематериальные активы, доля')\n",
        "plt.ylabel('Капитализация, млн долларов')\n",
        "plt.grid(color = '#D3D3D3', linestyle = 'solid')\n",
        "plt.legend(loc = 'upper right')\n",
        "plt.xlim(0,1)\n",
        "plt.show()"
      ],
      "metadata": {
        "id": "a2Z2VtQT0sNc"
      },
      "execution_count": null,
      "outputs": []
    },
    {
      "cell_type": "code",
      "source": [
        "#извлекаем данные по важности параметров\n",
        "characteristics = X1.columns\n",
        "importances = list(model3.feature_importances_)\n",
        "characteristics_importances = [(characteristic, round(importance, 2)) for characteristic, importance in zip(characteristics, importances)]\n",
        "characteristics_importances = sorted(characteristics_importances, key = lambda x: x[1], reverse = True)\n",
        "[print('Variable: {:20} Importance: {}'.format(*pair)) for pair in characteristics_importances]"
      ],
      "metadata": {
        "id": "rsJYxXMF0Tzj"
      },
      "execution_count": null,
      "outputs": []
    },
    {
      "cell_type": "code",
      "source": [
        "#строим столбчатую диаграмму для важности параметров \n",
        "plt.bar(characteristics, importances, orientation = 'vertical')\n",
        "plt.xticks(rotation = 'vertical')\n",
        "plt.ylabel('Важность')\n",
        "plt.xlabel('Признак')\n",
        "plt.grid(axis = 'y', color = '#D3D3D3', linestyle = 'solid')\n",
        "plt.show()"
      ],
      "metadata": {
        "id": "u6BUehTa0Tzk"
      },
      "execution_count": null,
      "outputs": []
    },
    {
      "cell_type": "code",
      "source": [
        "#загружаем датасет по российским компаниям\n",
        "dataset_url  = 'https://docs.google.com/spreadsheets/d/1giXcVZZBKtNn17-pJoi1dwXEcBPL0sdl/edit?usp=share_link&ouid=110986586806883017870&rtpof=true&sd=true'\n",
        "dataset_path = 'https://drive.google.com/uc?id=' + dataset_url.split('/')[-2]\n",
        "dataset_rus = pd.read_excel(dataset_path)"
      ],
      "metadata": {
        "id": "Ahct6CEHxPNs"
      },
      "execution_count": null,
      "outputs": []
    },
    {
      "cell_type": "code",
      "source": [
        "dataset_rus.head()"
      ],
      "metadata": {
        "id": "t6oZwY_7xlVx"
      },
      "execution_count": null,
      "outputs": []
    },
    {
      "cell_type": "code",
      "source": [
        "dataset_rus.isnull().sum(axis=0) #смотрим на количество пропущенных значений"
      ],
      "metadata": {
        "id": "WhUnpgZJyN8S"
      },
      "execution_count": null,
      "outputs": []
    },
    {
      "cell_type": "code",
      "source": [
        "#удаляем строки, в которых есть хоть одно NaN\n",
        "dataset_rus = dataset_rus.dropna()"
      ],
      "metadata": {
        "id": "h1bFtq3gyN8T"
      },
      "execution_count": null,
      "outputs": []
    },
    {
      "cell_type": "code",
      "source": [
        "#переименовываем столбец\n",
        "dataset_rus.rename({'Intangible assets to assets ratio' : 'Intangible assets, share'}, axis=1, inplace = True)"
      ],
      "metadata": {
        "id": "rh87sIeyyN8T"
      },
      "execution_count": null,
      "outputs": []
    },
    {
      "cell_type": "code",
      "source": [
        "#выводим общие показатели в отдельную таблицу\n",
        "dataset_rus.describe().to_excel('description.xlsx')"
      ],
      "metadata": {
        "id": "_yYUwXf6yN8U"
      },
      "execution_count": null,
      "outputs": []
    },
    {
      "cell_type": "code",
      "source": [
        "files.download('description.xlsx')"
      ],
      "metadata": {
        "id": "MBU6knq29a_2"
      },
      "execution_count": null,
      "outputs": []
    },
    {
      "cell_type": "code",
      "source": [
        "#строим корреляционную матрицу\n",
        "corr = dataset_rus.corr()\n",
        "corr.style.background_gradient(cmap='coolwarm')"
      ],
      "metadata": {
        "id": "H1F0y9kuyN8U"
      },
      "execution_count": null,
      "outputs": []
    },
    {
      "cell_type": "code",
      "source": [
        "\n",
        "from statsmodels.stats.outliers_influence import variance_inflation_factor\n",
        "  \n",
        "# регрессоры\n",
        "X = dataset_rus.iloc[:,2:-1]\n",
        "X \n",
        "# датафрейм для расчета VIF \n",
        "vif_data = pd.DataFrame()\n",
        "vif_data[\"feature\"] = X.columns\n",
        "  \n",
        "# расчет VIF\n",
        "vif_data[\"VIF\"] = [variance_inflation_factor(X.values, i)\n",
        "                         for i in range(len(X.columns))]\n",
        "  \n",
        "print(vif_data)\n"
      ],
      "metadata": {
        "id": "tgtgqcRlyN8U"
      },
      "execution_count": null,
      "outputs": []
    },
    {
      "cell_type": "code",
      "source": [
        "#формируем датасеты по признаками и метке\n",
        "X_rus = dataset_rus.iloc[:, 2:-1]\n",
        "y_rus = dataset_rus.iloc[:, 6:]"
      ],
      "metadata": {
        "id": "GIiTiW6oyN8V"
      },
      "execution_count": null,
      "outputs": []
    },
    {
      "cell_type": "code",
      "source": [
        "y_rus"
      ],
      "metadata": {
        "id": "YMS6hAb10nN2"
      },
      "execution_count": null,
      "outputs": []
    },
    {
      "cell_type": "code",
      "source": [
        "#предсказание\n",
        "y_rus_pred = model3.predict(X_rus)"
      ],
      "metadata": {
        "id": "mT2DLMqHyN8V"
      },
      "execution_count": null,
      "outputs": []
    },
    {
      "cell_type": "code",
      "source": [
        "# Mean absolute error (MAE)\n",
        "mae = mean_absolute_error(y_rus, y_rus_pred)\n",
        "\n",
        "# Mean squared error (MSE)\n",
        "mse = mean_squared_error(y_rus, y_rus_pred)\n",
        "\n",
        "# R-squared scores\n",
        "r2 = r2_score(y_rus, y_rus_pred)\n",
        "\n",
        "# выводим метрики\n",
        "print('Mean Absolute Error:', round(mae, 2))\n",
        "print('Mean Squared Error:', round(mse, 2))\n",
        "print('R-squared scores:', round(r2, 2))"
      ],
      "metadata": {
        "id": "16Li95TByN8V"
      },
      "execution_count": null,
      "outputs": []
    },
    {
      "cell_type": "markdown",
      "source": [],
      "metadata": {
        "id": "z7jKzF1_t2AR"
      }
    },
    {
      "cell_type": "code",
      "source": [
        "#строим точечный график для сравнения\n",
        "x_axis = X_rus[['Intangible assets, share']]\n",
        "\n",
        "plt.scatter(x_axis, y_rus, c = 'b', alpha = 0.5, marker = '.', label = 'фактические')\n",
        "plt.scatter(x_axis, y_rus_pred, c = 'r', alpha = 0.5, marker = '.', label = 'предсказанные')\n",
        "plt.xlabel('Нематериальные активы, доля')\n",
        "plt.ylabel('Капитализация, млн долларов')\n",
        "plt.grid(color = '#D3D3D3', linestyle = 'solid')\n",
        "plt.legend(loc = 'upper right')\n",
        "plt.xlim(0,0.125)\n",
        "plt.ylim(0,20000)\n",
        "plt.show()"
      ],
      "metadata": {
        "id": "iUUAWjjFyN8W"
      },
      "execution_count": null,
      "outputs": []
    }
  ]
}